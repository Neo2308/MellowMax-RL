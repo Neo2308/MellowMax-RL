{
  "nbformat": 4,
  "nbformat_minor": 0,
  "metadata": {
    "colab": {
      "name": "Taxi_Mellow-vs-Boltzmann.ipynb",
      "version": "0.3.2",
      "provenance": [],
      "include_colab_link": true
    },
    "kernelspec": {
      "name": "python3",
      "display_name": "Python 3"
    },
    "accelerator": "GPU"
  },
  "cells": [
    {
      "cell_type": "markdown",
      "metadata": {
        "id": "view-in-github",
        "colab_type": "text"
      },
      "source": [
        "<a href=\"https://colab.research.google.com/github/sayam47/Mellowmax-RL/blob/master/Taxi_Mellow_vs_Boltzmann.ipynb\" target=\"_parent\"><img src=\"https://colab.research.google.com/assets/colab-badge.svg\" alt=\"Open In Colab\"/></a>"
      ]
    },
    {
      "cell_type": "code",
      "metadata": {
        "id": "T1Vg5tOMy15V",
        "colab_type": "code",
        "colab": {}
      },
      "source": [
        "from collections import deque\n",
        "from collections import defaultdict\n",
        "import gym\n",
        "import sys\n",
        "import math\n",
        "import numpy as np\n",
        "import warnings\n",
        "warnings.filterwarnings('ignore')"
      ],
      "execution_count": 0,
      "outputs": []
    },
    {
      "cell_type": "code",
      "metadata": {
        "id": "no8VlX2yz8VF",
        "colab_type": "code",
        "colab": {}
      },
      "source": [
        "averages_history=[]"
      ],
      "execution_count": 0,
      "outputs": []
    },
    {
      "cell_type": "code",
      "metadata": {
        "id": "iiLxQ1iYz8qu",
        "colab_type": "code",
        "colab": {}
      },
      "source": [
        "def interact(env, agent, num_episodes=10000, window=100):\n",
        "    avg_rewards = deque(maxlen=num_episodes)\n",
        "    best_avg_reward = -math.inf\n",
        "    samp_rewards = deque(maxlen=window)\n",
        "    for i_episode in range(1, num_episodes+1):\n",
        "        state = env.reset()\n",
        "        samp_reward = 0\n",
        "        while True:\n",
        "            action = agent.select_action(state)\n",
        "            next_state, reward, done, _ = env.step(action)\n",
        "            agent.step(state, action, reward, next_state, done)\n",
        "            samp_reward += reward\n",
        "            state = next_state\n",
        "            if done:\n",
        "                samp_rewards.append(samp_reward)\n",
        "                break\n",
        "        avg_reward=0\n",
        "        if (i_episode >= 100):\n",
        "            avg_reward = np.mean(samp_rewards)\n",
        "            avg_rewards.append(avg_reward)\n",
        "            if avg_reward > best_avg_reward:\n",
        "                best_avg_reward = avg_reward\n",
        "        averages_history.append(avg_reward)\n",
        "        if i_episode%10==0:\n",
        "            print(\"\\rEpisode {}/{} || Average reward {} || Best average reward {}\".format(i_episode, num_episodes,avg_reward , best_avg_reward), end=\"\")\n",
        "            sys.stdout.flush()\n",
        "        if best_avg_reward >= 9.7:\n",
        "            print('\\nEnvironment solved in {} episodes.'.format(i_episode), end=\"\")\n",
        "#             return i_episode\n",
        "            break\n",
        "        if i_episode == num_episodes: print('\\n')\n",
        "#     return 100000\n",
        "    return avg_rewards, best_avg_reward"
      ],
      "execution_count": 0,
      "outputs": []
    },
    {
      "cell_type": "code",
      "metadata": {
        "id": "6cf_13rfz_kP",
        "colab_type": "code",
        "colab": {}
      },
      "source": [
        "from scipy.optimize import brentq\n",
        "\n",
        "class Agent:\n",
        "\n",
        "    def __init__(self, nA=6,omega=25,beta=1,mellow=0):\n",
        "        self.mellow=mellow\n",
        "        self.beta=beta\n",
        "        self.nA = nA\n",
        "        self.omega=omega\n",
        "        self.Q = defaultdict(lambda: np.zeros(self.nA))\n",
        "        self.gamma = 0.9\n",
        "        self.alpha = 0.1\n",
        "        \n",
        "    def mellowmax(self,beta,state):\n",
        "        c=np.max(self.Q[state])\n",
        "        mellow=c+np.log(np.sum(np.exp(self.omega*(self.Q[state]-c)))/self.nA)/self.omega\n",
        "        ans=np.sum(np.exp((self.Q[state]-mellow)*beta)*(self.Q[state]-mellow))\n",
        "        return ans\n",
        "\n",
        "    def get_action_probability(self, state):\n",
        "        if self.mellow==1:\n",
        "            beta=brentq(self.mellowmax,-500,500,args=(state,))\n",
        "        else:\n",
        "            beta=self.beta\n",
        "        policy_s = np.exp(beta*self.Q[state])/np.sum(np.exp(beta*self.Q[state]))\n",
        "        return policy_s\n",
        "\n",
        "    def select_action(self, state):\n",
        "        policy_s = self.get_action_probability(state)\n",
        "        return np.random.choice(np.arange(self.nA), p=policy_s)\n",
        "    \n",
        "    def step(self, state, action, reward, next_state, done):\n",
        "        next_action_value = self.Q[next_state][self.select_action(next_state)]\n",
        "        self.Q[state][action] += self.alpha * (reward  + self.gamma * next_action_value - self.Q[state][action])"
      ],
      "execution_count": 0,
      "outputs": []
    },
    {
      "cell_type": "code",
      "metadata": {
        "id": "V8YBlDOt0CQ_",
        "colab_type": "code",
        "colab": {}
      },
      "source": [
        "env = gym.make('Taxi-v2')"
      ],
      "execution_count": 0,
      "outputs": []
    },
    {
      "cell_type": "code",
      "metadata": {
        "id": "oOyxUXaO0Edc",
        "colab_type": "code",
        "colab": {}
      },
      "source": [
        "its=1"
      ],
      "execution_count": 0,
      "outputs": []
    },
    {
      "cell_type": "code",
      "metadata": {
        "id": "28L0JHKP0F99",
        "colab_type": "code",
        "outputId": "d99b723d-088f-4676-b7e9-812e8d3bc46f",
        "colab": {
          "base_uri": "https://localhost:8080/",
          "height": 391
        }
      },
      "source": [
        "x_best=[]\n",
        "for i in range(10,21):\n",
        "    b=0\n",
        "    for j in range(its):\n",
        "        averages_history=[]\n",
        "        agent = Agent(beta=i)\n",
        "        agent.init_for_sarsa()\n",
        "        avg_rewards,best_avg_rewards =interact(env,agent)\n",
        "        b+=best_avg_rewards\n",
        "    b/=its\n",
        "    x_best.append(b)"
      ],
      "execution_count": 0,
      "outputs": [
        {
          "output_type": "stream",
          "text": [
            "Episode 10000/10000 || Average reward 8.69 || Best average reward 9.14\n",
            "\n",
            "Episode 10000/10000 || Average reward 8.62 || Best average reward 9.1\n",
            "\n",
            "Episode 10000/10000 || Average reward 8.09 || Best average reward 9.34\n",
            "\n",
            "Episode 10000/10000 || Average reward 8.62 || Best average reward 9.22\n",
            "\n",
            "Episode 10000/10000 || Average reward 8.31 || Best average reward 9.02\n",
            "\n",
            "Episode 10000/10000 || Average reward 8.52 || Best average reward 9.17\n",
            "\n",
            "Episode 10000/10000 || Average reward 8.42 || Best average reward 9.12\n",
            "\n",
            "Episode 10000/10000 || Average reward 8.53 || Best average reward 9.01\n",
            "\n",
            "Episode 10000/10000 || Average reward 8.41 || Best average reward 9.05\n",
            "\n",
            "Episode 10000/10000 || Average reward 8.36 || Best average reward 9.26\n",
            "\n",
            "Episode 10000/10000 || Average reward 8.6 || Best average reward 9.29\n",
            "\n"
          ],
          "name": "stdout"
        }
      ]
    },
    {
      "cell_type": "code",
      "metadata": {
        "id": "8jxtvNvp0Luy",
        "colab_type": "code",
        "outputId": "db723550-9c2c-44d0-ffd4-084cc9bcb60b",
        "colab": {
          "base_uri": "https://localhost:8080/",
          "height": 391
        }
      },
      "source": [
        "y_best=[]\n",
        "for i in range(10,21):\n",
        "    b=0\n",
        "    for j in range(its):\n",
        "        averages_history=[]\n",
        "        agent = Agent(omega=i,mellow=1)\n",
        "        agent.init_for_sarsa()\n",
        "        avg_rewards,best_avg_rewards =interact(env,agent)\n",
        "        b+=best_avg_rewards\n",
        "    b/=its\n",
        "    y_best.append(b)"
      ],
      "execution_count": 0,
      "outputs": [
        {
          "output_type": "stream",
          "text": [
            "Episode 10000/10000 || Average reward 7.25 || Best average reward 8.35\n",
            "\n",
            "Episode 10000/10000 || Average reward 7.83 || Best average reward 8.66\n",
            "\n",
            "Episode 10000/10000 || Average reward 8.14 || Best average reward 8.79\n",
            "\n",
            "Episode 10000/10000 || Average reward 7.51 || Best average reward 8.86\n",
            "\n",
            "Episode 10000/10000 || Average reward 7.82 || Best average reward 8.57\n",
            "\n",
            "Episode 10000/10000 || Average reward 7.61 || Best average reward 8.8\n",
            "\n",
            "Episode 10000/10000 || Average reward 7.69 || Best average reward 8.78\n",
            "\n",
            "Episode 10000/10000 || Average reward 8.22 || Best average reward 8.83\n",
            "\n",
            "Episode 10000/10000 || Average reward 7.69 || Best average reward 9.08\n",
            "\n",
            "Episode 10000/10000 || Average reward 7.63 || Best average reward 8.88\n",
            "\n",
            "Episode 10000/10000 || Average reward 8.55 || Best average reward 8.88\n",
            "\n"
          ],
          "name": "stdout"
        }
      ]
    },
    {
      "cell_type": "code",
      "metadata": {
        "id": "-lDej_qQ0O2u",
        "colab_type": "code",
        "colab": {}
      },
      "source": [
        "import matplotlib.pyplot as plt\n",
        "%matplotlib inline"
      ],
      "execution_count": 0,
      "outputs": []
    },
    {
      "cell_type": "code",
      "metadata": {
        "id": "DOK-CikA0RGc",
        "colab_type": "code",
        "outputId": "23d93357-bb7a-41e5-ca9a-458da429765e",
        "colab": {
          "base_uri": "https://localhost:8080/",
          "height": 283
        }
      },
      "source": [
        "fig_best=plt.figure()\n",
        "ax=fig_best.add_subplot(111)\n",
        "plt.plot(np.arange(10,21),x_best,label='Boltzmann')\n",
        "plt.plot(np.arange(10,21),y_best,label='Mellowmax')\n",
        "plt.ylim(0,10)\n",
        "plt.ylabel('mean return')\n",
        "plt.xlabel('omega/beta')\n",
        "plt.legend()\n",
        "plt.savefig('taxi.png')"
      ],
      "execution_count": 0,
      "outputs": [
        {
          "output_type": "display_data",
          "data": {
            "image/png": "[encoded data removed]",
            "text/plain": [
              "<Figure size 432x288 with 1 Axes>"
            ]
          },
          "metadata": {
            "tags": []
          }
        }
      ]
    },
    {
      "cell_type": "code",
      "metadata": {
        "id": "zwb0ncxooQBI",
        "colab_type": "code",
        "colab": {}
      },
      "source": [
        ""
      ],
      "execution_count": 0,
      "outputs": []
    }
  ]
}