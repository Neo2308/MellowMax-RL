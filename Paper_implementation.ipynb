{
  "nbformat": 4,
  "nbformat_minor": 0,
  "metadata": {
    "colab": {
      "name": "Paper_implementation.ipynb",
      "version": "0.3.2",
      "provenance": [],
      "include_colab_link": true
    },
    "kernelspec": {
      "name": "python3",
      "display_name": "Python 3"
    },
    "accelerator": "GPU"
  },
  "cells": [
    {
      "cell_type": "markdown",
      "metadata": {
        "id": "view-in-github",
        "colab_type": "text"
      },
      "source": [
        "<a href=\"https://colab.research.google.com/github/sayam47/Mellowmax-RL/blob/master/Paper_implementation.ipynb\" target=\"_parent\"><img src=\"https://colab.research.google.com/assets/colab-badge.svg\" alt=\"Open In Colab\"/></a>"
      ]
    },
    {
      "cell_type": "code",
      "metadata": {
        "id": "0aeTsaAeb6Ij",
        "colab_type": "code",
        "colab": {}
      },
      "source": [
        "import gym\n",
        "import numpy as np\n",
        "import math\n",
        "from collections import deque\n",
        "import matplotlib.pyplot as plt\n",
        "%matplotlib inline\n",
        "from scipy import optimize"
      ],
      "execution_count": 0,
      "outputs": []
    },
    {
      "cell_type": "code",
      "metadata": {
        "id": "dWOVxPuRcAuA",
        "colab_type": "code",
        "colab": {}
      },
      "source": [
        "def env(action):\n",
        "    if(action==0):\n",
        "        s = np.random.choice(2,p=[0.66,0.34])\n",
        "        if s:\n",
        "            return 0,1\n",
        "        else:\n",
        "            return 0.122,0\n",
        "    else:\n",
        "        s = np.random.choice(2,p=[0.99,0.01])\n",
        "        if s:\n",
        "            return 0,1\n",
        "        else:\n",
        "            return 0.033,0"
      ],
      "execution_count": 0,
      "outputs": []
    },
    {
      "cell_type": "code",
      "metadata": {
        "id": "AmSuuU8BcBwu",
        "colab_type": "code",
        "colab": {}
      },
      "source": [
        "SOFTMAX = 1\n",
        "MAX = 0\n",
        "class Policy():\n",
        "    def __init__(self, s_size=2, a_size=2,omega = 16.55):\n",
        "        self.a_size=a_size\n",
        "        self.s_size=s_size\n",
        "        self.omega = omega\n",
        "        self.beta = 16.55\n",
        "        self.Q=np.zeros((s_size,a_size))\n",
        "        \n",
        "    def mellowmax(self ,beta):\n",
        "        c = np.max(self.Q[0])\n",
        "        mm = c + np.log((1/self.a_size)*np.sum(np.exp(self.omega * (self.Q[0] - c ))))/self.omega\n",
        "        b = 0\n",
        "        for a in self.Q[0]:\n",
        "            b+=np.exp(beta * (a-mm))*(a-mm)\n",
        "        return b\n",
        "        \n",
        "    def forward(self):\n",
        "        if MAX:\n",
        "            p=[0,0]\n",
        "            p[np.argmax(self.Q[0])] = 1\n",
        "            return p\n",
        "        if SOFTMAX:\n",
        "            beta = self.beta\n",
        "        else:\n",
        "            beta=optimize.brentq(self.mellowmax,-400,400)\n",
        "        self.beta = beta\n",
        "        k = np.exp(beta*self.Q[0])/np.sum(np.exp(beta*self.Q[0]))\n",
        "        return k\n",
        "    \n",
        "    def act(self, state,maxi = 0):\n",
        "        probs = self.forward()\n",
        "        action = np.random.choice(len(probs), p=probs) # option 1: stochastic policy\n",
        "        if maxi:\n",
        "            action = np.argmax(self.Q[0])\n",
        "        return action"
      ],
      "execution_count": 0,
      "outputs": []
    },
    {
      "cell_type": "code",
      "metadata": {
        "id": "LWT2zxC_cEdJ",
        "colab_type": "code",
        "outputId": "f45e0813-6699-4aeb-8404-8fcf3c8f4247",
        "colab": {
          "base_uri": "https://localhost:8080/",
          "height": 87
        }
      },
      "source": [
        "MAX = 0\n",
        "SOFTMAX = 1\n",
        "policy = Policy()\n",
        "policy.omega=600\n",
        "policy.beta=17.05\n",
        "qa=[]\n",
        "qb=[]\n",
        "psf1=[]\n",
        "psf2=[]\n",
        "\n",
        "def Paper(n_episodes=2000, gamma=0.98,alpha=0.1, print_every=500):\n",
        "    for i_episode in range(1, n_episodes+1):\n",
        "        rewards = []\n",
        "        state = 0\n",
        "        action = policy.act(state)\n",
        "        \n",
        "        while(1):\n",
        "            reward,state1 = env(action)\n",
        "            rewards.append(reward)\n",
        "            action1=policy.act(state1)\n",
        "            policy.Q[state][action]+=alpha*(reward+gamma*policy.Q[state1][action1]-policy.Q[state][action])\n",
        "            if state1==1:\n",
        "                break\n",
        "            state=state1\n",
        "            action=action1\n",
        "        r=policy.forward()\n",
        "        psf1.append(r[0])\n",
        "        psf2.append(r[1])\n",
        "        qa.append(policy.Q[0][0])\n",
        "        qb.append(policy.Q[0][1])\n",
        "        if i_episode%print_every==0:\n",
        "            print(i_episode )\n",
        "            \n",
        "Paper()"
      ],
      "execution_count": 5,
      "outputs": [
        {
          "output_type": "stream",
          "text": [
            "500\n",
            "1000\n",
            "1500\n",
            "2000\n"
          ],
          "name": "stdout"
        }
      ]
    },
    {
      "cell_type": "code",
      "metadata": {
        "id": "Le1DnENTcGHx",
        "colab_type": "code",
        "outputId": "f2cfc954-afc9-4d58-c247-d309b098c0e1",
        "colab": {
          "base_uri": "https://localhost:8080/",
          "height": 284
        }
      },
      "source": [
        "fig = plt.figure()\n",
        "ax = fig.add_subplot(111)\n",
        "plt.plot(np.arange(1, len(qa)+1), qa , label = 'QA' , color = 'blue')\n",
        "plt.plot(np.arange(1, len(qb)+1), qb , label = \"QB\" , color = 'orange')\n",
        "plt.xlabel('Episode Number')\n",
        "plt.legend(bbox_to_anchor=(1.1, 1.05))\n",
        "# plt.show()\n",
        "plt.savefig('fig3.1.png')"
      ],
      "execution_count": 6,
      "outputs": [
        {
          "output_type": "display_data",
          "data": {
            "image/png": "[encoded data removed]",
            "text/plain": [
              "<Figure size 432x288 with 1 Axes>"
            ]
          },
          "metadata": {
            "tags": []
          }
        }
      ]
    },
    {
      "cell_type": "code",
      "metadata": {
        "id": "LdDC13CvcHah",
        "colab_type": "code",
        "colab": {}
      },
      "source": [
        "def pro(state , action , state1):\n",
        "    if state == 0:\n",
        "        if action == 0:\n",
        "            if state1 == 0:\n",
        "                return 0.66\n",
        "            else:\n",
        "                return 0.34\n",
        "        else:\n",
        "            if state1 == 0:\n",
        "                return 0.99\n",
        "            else:\n",
        "                return 0.01\n",
        "    return -1\n",
        "\n",
        "def re(action):\n",
        "    if action == 0:\n",
        "        return 0.122\n",
        "    else:\n",
        "        return 0.033\n",
        "    \n",
        "def GVI_Sarsa(policy , gamma=0.98,alpha=1,print_every=100 , delta = 1e-5):\n",
        "        i_episode = 0\n",
        "        while 1:\n",
        "            diff = 0\n",
        "            for action in range(2):\n",
        "                Q_temp = policy.Q[0][action]\n",
        "    #             reward , state = env(action)\n",
        "                policy.Q[0][action] = alpha * (re(action) + gamma * (pro(0 , action , 0) * np.dot(policy.forward(),policy.Q[0].T)))\n",
        "                diff = max(diff , abs(policy.Q[0][action]-Q_temp))        \n",
        "            if diff<delta:\n",
        "                break\n",
        "            i_episode = i_episode + 1        \n",
        "            qa1.append(policy.Q[0][0])\n",
        "            qb1.append(policy.Q[0][1])\n",
        "            r=policy.forward()\n",
        "            psf1.append(r[0])\n",
        "            psf2.append(r[1])\n",
        "#             if i_episode%100==0:\n",
        "#                 print(i_episode , policy_sarsa.beta)\n",
        "        return i_episode\n",
        "\n"
      ],
      "execution_count": 0,
      "outputs": []
    },
    {
      "cell_type": "code",
      "metadata": {
        "id": "QWg8Sg3ocIzi",
        "colab_type": "code",
        "outputId": "381e5da1-c226-4df4-9d7d-d3f3d65443e0",
        "colab": {
          "base_uri": "https://localhost:8080/",
          "height": 1794
        }
      },
      "source": [
        "MAX = 0\n",
        "SOFTMAX = 1\n",
        "qa1=[]\n",
        "qb1=[]\n",
        "psf1 = []\n",
        "psf2 = []\n",
        "fir=[]\n",
        "sec=[]\n",
        "beta = 17\n",
        "for b in range(100):\n",
        "    policy_sarsa = Policy()\n",
        "    policy_sarsa.beta = beta + b*0.002\n",
        "    policy_sarsa.omega = beta + b*5\n",
        "    GVI_Sarsa(policy_sarsa)\n",
        "    fir.append(policy_sarsa.Q[0][0])\n",
        "    sec.append(policy_sarsa.Q[0][1])\n",
        "    print(b,policy_sarsa.Q[0],policy_sarsa.beta)"
      ],
      "execution_count": 8,
      "outputs": [
        {
          "output_type": "stream",
          "text": [
            "0 [0.51345383 0.62018024] 17.0\n",
            "1 [0.51386354 0.6207948 ] 17.002\n",
            "2 [0.51428034 0.62142   ] 17.004\n",
            "3 [0.51470462 0.62205642] 17.006\n",
            "4 [0.51514346 0.62271467] 17.008\n",
            "5 [0.51559067 0.62338549] 17.01\n",
            "6 [0.51605343 0.62407963] 17.012\n",
            "7 [0.51653232 0.62479796] 17.014\n",
            "8 [0.51702132 0.62553146] 17.016\n",
            "9 [0.51753445 0.62630116] 17.018\n",
            "10 [0.51805924 0.62708833] 17.02\n",
            "11 [0.51860324 0.62790432] 17.022\n",
            "12 [0.51916749 0.62875071] 17.024\n",
            "13 [0.51975987 0.62963926] 17.026\n",
            "14 [0.5203751  0.63056212] 17.028\n",
            "15 [0.5210215  0.63153171] 17.03\n",
            "16 [0.521701   0.63255095] 17.032\n",
            "17 [0.52241594 0.63362337] 17.034\n",
            "18 [0.52317585 0.63476322] 17.036\n",
            "19 [0.52399094 0.63598585] 17.038\n",
            "20 [0.52487242 0.63730808] 17.04\n",
            "21 [0.52583296 0.63874889] 17.042\n",
            "22 [0.52688743 0.64033058] 17.044\n",
            "23 [0.52808762 0.64213087] 17.046\n",
            "24 [0.52948536 0.64422747] 17.048\n",
            "25 [0.53121998 0.6468294 ] 17.05\n",
            "26 [0.53370597 0.65055837] 17.052\n",
            "27 [0.69635314 0.89452923] 17.054\n",
            "28 [0.69663564 0.89495298] 17.056\n",
            "29 [0.69692273 0.89538362] 17.058\n",
            "30 [0.69720602 0.89580855] 17.06\n",
            "31 [0.69748153 0.89622182] 17.062\n",
            "32 [0.69776512 0.8966472 ] 17.064\n",
            "33 [0.69803653 0.89705431] 17.066\n",
            "34 [0.69831399 0.89747051] 17.068\n",
            "35 [0.6985827  0.89787358] 17.07\n",
            "36 [0.69885909 0.89828817] 17.072\n",
            "37 [0.69912727 0.89869044] 17.074\n",
            "38 [0.69939383 0.89909027] 17.076\n",
            "39 [0.69965583 0.89948327] 17.078\n",
            "40 [0.69992147 0.89988173] 17.08\n",
            "41 [0.70018409 0.90027566] 17.082\n",
            "42 [0.70044246 0.90066322] 17.084\n",
            "43 [0.70070103 0.90105107] 17.086\n",
            "44 [0.70096351 0.90144479] 17.088\n",
            "45 [0.70121314 0.90181924] 17.09\n",
            "46 [0.70147247 0.90220824] 17.092\n",
            "47 [0.70172388 0.90258535] 17.094\n",
            "48 [0.70197594 0.90296345] 17.096\n",
            "49 [0.70222375 0.90333515] 17.098\n",
            "50 [0.70246876 0.90370267] 17.1\n",
            "51 [0.70271891 0.9040779 ] 17.102\n",
            "52 [0.70296209 0.90444266] 17.104\n",
            "53 [0.70320593 0.90480843] 17.106\n",
            "54 [0.70345134 0.90517655] 17.108\n",
            "55 [0.7036925  0.90553829] 17.11\n",
            "56 [0.70393014 0.90589474] 17.112\n",
            "57 [0.70417151 0.9062568 ] 17.114\n",
            "58 [0.70440397 0.90660549] 17.116\n",
            "59 [0.70464129 0.90696148] 17.118\n",
            "60 [0.70487734 0.90731554] 17.12\n",
            "61 [0.70510591 0.90765841] 17.122\n",
            "62 [0.70534069 0.90801057] 17.124\n",
            "63 [0.70556876 0.90835268] 17.126\n",
            "64 [0.70580373 0.90870514] 17.128\n",
            "65 [0.70603266 0.90904853] 17.13\n",
            "66 [0.70625584 0.9093833 ] 17.132\n",
            "67 [0.70648015 0.90971977] 17.134\n",
            "68 [0.70670584 0.91005831] 17.136\n",
            "69 [0.70693314 0.91039926] 17.138\n",
            "70 [0.70715565 0.91073302] 17.14\n",
            "71 [0.70737355 0.91105987] 17.142\n",
            "72 [0.70759365 0.91139002] 17.144\n",
            "73 [0.70781613 0.91172375] 17.146\n",
            "74 [0.70803453 0.91205134] 17.148\n",
            "75 [0.708249   0.91237305] 17.15\n",
            "76 [0.7084663 0.912699 ] 17.152\n",
            "77 [0.70867994 0.91301946] 17.154\n",
            "78 [0.70889668 0.91334456] 17.156\n",
            "79 [0.70911    0.91366455] 17.158\n",
            "80 [0.70932003 0.9139796 ] 17.16\n",
            "81 [0.70952686 0.91428984] 17.162\n",
            "82 [0.70973723 0.91460539] 17.164\n",
            "83 [0.70995121 0.91492637] 17.166\n",
            "84 [0.71015567 0.91523306] 17.168\n",
            "85 [0.71036393 0.91554545] 17.17\n",
            "86 [0.71056945 0.91585373] 17.172\n",
            "87 [0.7107723 0.916158 ] 17.174\n",
            "88 [0.71097918 0.91646833] 17.176\n",
            "89 [0.71118354 0.91677487] 17.178\n",
            "90 [0.71138546 0.91707774] 17.18\n",
            "91 [0.71158498 0.91737702] 17.182\n",
            "92 [0.71178878 0.91768273] 17.184\n",
            "93 [0.71198371 0.91797512] 17.186\n",
            "94 [0.71218303 0.91827411] 17.188\n",
            "95 [0.7123802  0.91856985] 17.19\n",
            "96 [0.71258187 0.91887236] 17.192\n",
            "97 [0.71277487 0.91916186] 17.194\n",
            "98 [0.71297246 0.91945825] 17.196\n",
            "99 [0.71316809 0.91975169] 17.198\n"
          ],
          "name": "stdout"
        }
      ]
    },
    {
      "cell_type": "code",
      "metadata": {
        "id": "HCbUSWDFcKz5",
        "colab_type": "code",
        "outputId": "68abf4ae-ae26-4d02-dcd5-9a205dc2d3e9",
        "colab": {
          "base_uri": "https://localhost:8080/",
          "height": 282
        }
      },
      "source": [
        "fig = plt.figure()\n",
        "ax = fig.add_subplot(111)\n",
        "plt.plot(np.arange(17,17.2,0.002),fir,color = 'blue')\n",
        "plt.ylabel('Q(s,a)')\n",
        "plt.xlabel('Beta')\n",
        "# plt.show()\n",
        "plt.savefig('Q_a_beta.png')"
      ],
      "execution_count": 9,
      "outputs": [
        {
          "output_type": "display_data",
          "data": {
            "image/png": "[encoded data removed]",
            "text/plain": [
              "<Figure size 432x288 with 1 Axes>"
            ]
          },
          "metadata": {
            "tags": []
          }
        }
      ]
    },
    {
      "cell_type": "code",
      "metadata": {
        "id": "6x_H_G9CcML9",
        "colab_type": "code",
        "outputId": "988a5d7b-86b5-4302-a0ba-278aeff6063a",
        "colab": {
          "base_uri": "https://localhost:8080/",
          "height": 282
        }
      },
      "source": [
        "fig = plt.figure()\n",
        "ax = fig.add_subplot(111)\n",
        "plt.plot(np.arange(17,17.2,0.002),sec,color = 'orange')\n",
        "plt.ylabel('Q(s,b)')\n",
        "plt.xlabel('Beta')\n",
        "# plt.show()\n",
        "plt.savefig('Q_b_beta.png')"
      ],
      "execution_count": 10,
      "outputs": [
        {
          "output_type": "display_data",
          "data": {
            "image/png": "[encoded data removed]",
            "text/plain": [
              "<Figure size 432x288 with 1 Axes>"
            ]
          },
          "metadata": {
            "tags": []
          }
        }
      ]
    },
    {
      "cell_type": "code",
      "metadata": {
        "id": "BtnPrG_tcN5R",
        "colab_type": "code",
        "colab": {}
      },
      "source": [
        "MAX = 0\n",
        "SOFTMAX = 0\n",
        "qa1=[]\n",
        "qb1=[]\n",
        "psf1 = []\n",
        "psf2 = []\n",
        "    \n",
        "fir=[]\n",
        "sec=[]\n",
        "beta = 15\n",
        "for b in range(100):\n",
        "    policy_sarsa = Policy()\n",
        "    policy_sarsa.beta = beta + b*0.002\n",
        "    policy_sarsa.omega = beta + b*5\n",
        "    GVI_Sarsa(policy_sarsa)\n",
        "    fir.append(policy_sarsa.Q[0][0])\n",
        "    sec.append(policy_sarsa.Q[0][1])\n",
        "#     print(b,policy_sarsa.Q[0])"
      ],
      "execution_count": 0,
      "outputs": []
    },
    {
      "cell_type": "code",
      "metadata": {
        "id": "vP-puniycQ1P",
        "colab_type": "code",
        "outputId": "54b0696a-6f62-4f21-a427-e4501175e73c",
        "colab": {
          "base_uri": "https://localhost:8080/",
          "height": 282
        }
      },
      "source": [
        "fig = plt.figure()\n",
        "ax = fig.add_subplot(111)\n",
        "plt.plot(np.arange(15,20,0.05),fir,color = 'blue')\n",
        "plt.ylabel('Q(s,a)')\n",
        "plt.xlabel('Omega')\n",
        "# plt.show()\n",
        "plt.savefig('Q_a_omega.png')"
      ],
      "execution_count": 12,
      "outputs": [
        {
          "output_type": "display_data",
          "data": {
            "image/png": "[encoded data removed]",
            "text/plain": [
              "<Figure size 432x288 with 1 Axes>"
            ]
          },
          "metadata": {
            "tags": []
          }
        }
      ]
    },
    {
      "cell_type": "code",
      "metadata": {
        "id": "EGB5D7nhcT8-",
        "colab_type": "code",
        "outputId": "6dd103a2-cb80-446e-f089-e6999dc3e608",
        "colab": {
          "base_uri": "https://localhost:8080/",
          "height": 282
        }
      },
      "source": [
        "fig = plt.figure()\n",
        "ax = fig.add_subplot(111)\n",
        "plt.plot(np.arange(15,20,0.05),sec,color = 'orange')\n",
        "plt.ylabel('Q(s,b)')\n",
        "plt.xlabel('Omega')\n",
        "# plt.show()\n",
        "plt.savefig('Q_b_omega.png')"
      ],
      "execution_count": 13,
      "outputs": [
        {
          "output_type": "display_data",
          "data": {
            "image/png": "[encoded data removed]",
            "text/plain": [
              "<Figure size 432x288 with 1 Axes>"
            ]
          },
          "metadata": {
            "tags": []
          }
        }
      ]
    },
    {
      "cell_type": "code",
      "metadata": {
        "id": "k2nN_AkdcVZx",
        "colab_type": "code",
        "colab": {}
      },
      "source": [
        "beta_list =  np.arange(1,40,0.05)"
      ],
      "execution_count": 0,
      "outputs": []
    },
    {
      "cell_type": "code",
      "metadata": {
        "id": "LZ20QkU0cW8M",
        "colab_type": "code",
        "colab": {}
      },
      "source": [
        "MAX = 1\n",
        "\n",
        "num_iter_max = []\n",
        "\n",
        "for b in beta_list:\n",
        "    policy = Policy()\n",
        "    policy.beta = b\n",
        "    i = GVI_Sarsa(policy)\n",
        "    num_iter_max.append(i)"
      ],
      "execution_count": 0,
      "outputs": []
    },
    {
      "cell_type": "code",
      "metadata": {
        "id": "XD-MXrC0cYIS",
        "colab_type": "code",
        "outputId": "0cd76d03-4ab9-4531-cdff-715dc0f93d2d",
        "colab": {
          "base_uri": "https://localhost:8080/",
          "height": 176
        }
      },
      "source": [
        "MAX = 0\n",
        "SOFTMAX = 1\n",
        "num_iter_boltz = []\n",
        "for b in beta_list:\n",
        "    policy = Policy()\n",
        "    policy.beta = b\n",
        "    i = GVI_Sarsa(policy)\n",
        "    num_iter_boltz.append(i)\n",
        "    if i>1000:\n",
        "        print(i , b)"
      ],
      "execution_count": 16,
      "outputs": [
        {
          "output_type": "stream",
          "text": [
            "1432 17.050000000000015\n",
            "2444 17.100000000000016\n",
            "1845 17.150000000000013\n",
            "1554 17.200000000000014\n",
            "1371 17.250000000000014\n",
            "1242 17.300000000000015\n",
            "1145 17.350000000000016\n",
            "1069 17.400000000000013\n",
            "1006 17.450000000000014\n"
          ],
          "name": "stdout"
        }
      ]
    },
    {
      "cell_type": "code",
      "metadata": {
        "id": "kOV-6I-6cZQJ",
        "colab_type": "code",
        "colab": {}
      },
      "source": [
        "MAX = 0\n",
        "SOFTMAX = 0\n",
        "num_iter_mellow = []\n",
        "for b in beta_list:\n",
        "    policy = Policy()\n",
        "    policy.omega = b\n",
        "    i = GVI_Sarsa(policy)\n",
        "    num_iter_mellow.append(i)"
      ],
      "execution_count": 0,
      "outputs": []
    },
    {
      "cell_type": "code",
      "metadata": {
        "id": "B_lSU5ikcaZr",
        "colab_type": "code",
        "outputId": "6bbef36f-d7ae-4ea2-b677-8684dcd9ab84",
        "colab": {
          "base_uri": "https://localhost:8080/",
          "height": 282
        }
      },
      "source": [
        "fig = plt.figure()\n",
        "ax = fig.add_subplot(111)\n",
        "plt.plot(beta_list, num_iter_max , label = 'GVI under Max')\n",
        "plt.plot(beta_list, num_iter_boltz , label = \"GVI under Boltzmann Softmax\")\n",
        "plt.ylim(0, 2500)\n",
        "plt.xlabel('beta')\n",
        "plt.ylabel('number of iterations')\n",
        "plt.legend()\n",
        "# plt.show()\n",
        "plt.savefig('it_max_b.png')"
      ],
      "execution_count": 18,
      "outputs": [
        {
          "output_type": "display_data",
          "data": {
            "image/png": "[encoded data removed]",
            "text/plain": [
              "<Figure size 432x288 with 1 Axes>"
            ]
          },
          "metadata": {
            "tags": []
          }
        }
      ]
    },
    {
      "cell_type": "code",
      "metadata": {
        "id": "P4NE4hYKcbrK",
        "colab_type": "code",
        "outputId": "553525ab-9c64-41fc-9423-b721fe958d93",
        "colab": {
          "base_uri": "https://localhost:8080/",
          "height": 282
        }
      },
      "source": [
        "fig = plt.figure()\n",
        "ax = fig.add_subplot(111)\n",
        "plt.plot(beta_list, num_iter_max , label = 'GVI under Max')\n",
        "plt.plot(beta_list, num_iter_mellow , label = \"GVI under Max Entropy Mellowmax\")\n",
        "plt.ylim(0, 2500)\n",
        "plt.xlabel('omega')\n",
        "plt.ylabel('number of iterations')\n",
        "plt.legend()\n",
        "# plt.show()\n",
        "plt.savefig('it_max_mellow.png')"
      ],
      "execution_count": 19,
      "outputs": [
        {
          "output_type": "display_data",
          "data": {
            "image/png": "[encoded data removed]",
            "text/plain": [
              "<Figure size 432x288 with 1 Axes>"
            ]
          },
          "metadata": {
            "tags": []
          }
        }
      ]
    }
  ]
}